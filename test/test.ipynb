{
 "cells": [
  {
   "cell_type": "code",
   "execution_count": 2,
   "metadata": {},
   "outputs": [
    {
     "name": "stderr",
     "output_type": "stream",
     "text": [
      "┌ Info: Precompiling PottsProductionScheduling [14e5a3a8-54b3-48e7-a2dc-d9c858be7609]\n",
      "└ @ Base loading.jl:1317\n"
     ]
    }
   ],
   "source": [
    "using Revise\n",
    "using PottsProductionScheduling, PyPlot, Statistics"
   ]
  },
  {
   "cell_type": "markdown",
   "metadata": {},
   "source": [
    "# BENCHMARK: How many machines can we deal with?"
   ]
  },
  {
   "cell_type": "code",
   "execution_count": null,
   "metadata": {},
   "outputs": [],
   "source": [
    "T = 100\n",
    "M = 1:5\n",
    "N = 5"
   ]
  },
  {
   "cell_type": "code",
   "execution_count": null,
   "metadata": {},
   "outputs": [],
   "source": [
    "computing_times = zeros(length(M))\n",
    "for i in 1:length(M)\n",
    "    println(i,\"/\", length(M))\n",
    "    A =ones(M[i], T, N, N)\n",
    "    J = 0.5*ones(M[i], M[i], T, N, N)\n",
    "    h = 3.0*rand(T,N)\n",
    "    env = Environment(T, M[i], N, h, A, J);\n",
    "    computing_times[i] = @elapsed optimize(env)\n",
    "end"
   ]
  },
  {
   "cell_type": "code",
   "execution_count": null,
   "metadata": {},
   "outputs": [],
   "source": [
    "plot(M, computing_times, marker=\"o\", linestyle=\"none\")\n",
    "xlabel(\"number of machines\")\n",
    "ylabel(\"seconds of computation\")"
   ]
  },
  {
   "cell_type": "markdown",
   "metadata": {},
   "source": [
    "# CHECK: Random strategy"
   ]
  },
  {
   "cell_type": "code",
   "execution_count": null,
   "metadata": {},
   "outputs": [],
   "source": [
    "T = 100\n",
    "M = 3\n",
    "N = 5\n",
    "n_random_samples = 10\n",
    "A =ones(M, T, N, N)\n",
    "J = 0.5*ones(M, M, T, N, N)\n",
    "h = 3.0*rand(T,N)\n",
    "env = Environment(T, M, N, h, A, J);"
   ]
  },
  {
   "cell_type": "code",
   "execution_count": null,
   "metadata": {},
   "outputs": [],
   "source": [
    "optimal_cost, _ = optimize(env);"
   ]
  },
  {
   "cell_type": "code",
   "execution_count": null,
   "metadata": {},
   "outputs": [],
   "source": [
    "random_costs = zeros(n_random_samples)\n",
    "for i in 1:n_random_samples\n",
    "    σrandom = rand(1:N, T, M)\n",
    "    random_agent = Agent(σrandom, N)\n",
    "    random_costs[i] = cost(env, random_agent)\n",
    "end"
   ]
  },
  {
   "cell_type": "code",
   "execution_count": null,
   "metadata": {},
   "outputs": [],
   "source": [
    "axhline(optimal_cost, color=\"red\")\n",
    "plot(random_costs, marker=\"o\", linestyle=\"none\")\n",
    "legend([\"optimal strategy cost\", \"random strategies costs\"])\n",
    "xlabel(\"N random samples\")\n",
    "ylabel(\"cost\")"
   ]
  },
  {
   "cell_type": "markdown",
   "metadata": {},
   "source": [
    "# Introducing Demand"
   ]
  },
  {
   "cell_type": "code",
   "execution_count": 3,
   "metadata": {},
   "outputs": [],
   "source": [
    "T = 100\n",
    "M = 3\n",
    "N = 5\n",
    "A =ones(M, T, N, N)\n",
    "J = 0.5*ones(M, M, T, N, N)\n",
    "h = 3.0*rand(T,N)\n",
    "I = rand(T, N);"
   ]
  },
  {
   "cell_type": "code",
   "execution_count": 4,
   "metadata": {},
   "outputs": [
    {
     "data": {
      "text/plain": [
       "GeometricDemand([0.8, 0.8, 0.8, 0.8, 0.8])"
      ]
     },
     "execution_count": 4,
     "metadata": {},
     "output_type": "execute_result"
    }
   ],
   "source": [
    "demand = GeometricDemand(0.8*ones(N))"
   ]
  },
  {
   "cell_type": "code",
   "execution_count": 5,
   "metadata": {},
   "outputs": [],
   "source": [
    "env = Environment(T, M, N, h, A, J, I);"
   ]
  },
  {
   "cell_type": "code",
   "execution_count": 9,
   "metadata": {},
   "outputs": [
    {
     "data": {
      "text/plain": [
       "(325276.7850574094, [[1, 2, 4], [2, 4, 5], [2, 4, 4], [3, 3, 4], [1, 2, 5], [4, 5, 5], [2, 3, 4], [1, 3, 3], [1, 2, 5], [5, 5, 5]  …  [1, 1, 4], [2, 2, 4], [2, 2, 3], [2, 2, 5], [4, 4, 5], [2, 3, 5], [1, 2, 3], [1, 4, 5], [2, 2, 3], [1, 1, 1]])"
      ]
     },
     "execution_count": 9,
     "metadata": {},
     "output_type": "execute_result"
    }
   ],
   "source": [
    "opt_cost, opt_actions = optimize(env, demand)"
   ]
  },
  {
   "cell_type": "code",
   "execution_count": null,
   "metadata": {},
   "outputs": [],
   "source": [
    "step_cost(env, opt_actions[1], opt_actions[2], 2)"
   ]
  },
  {
   "cell_type": "code",
   "execution_count": null,
   "metadata": {},
   "outputs": [],
   "source": [
    "optimal_agent = Agent(hcat(opt_actions...)', N)"
   ]
  },
  {
   "cell_type": "code",
   "execution_count": null,
   "metadata": {},
   "outputs": [],
   "source": [
    "cost(env, demand, optimal_agent)"
   ]
  },
  {
   "cell_type": "code",
   "execution_count": null,
   "metadata": {},
   "outputs": [],
   "source": []
  }
 ],
 "metadata": {
  "kernelspec": {
   "display_name": "Julia 1.6.0",
   "language": "julia",
   "name": "julia-1.6"
  },
  "language_info": {
   "file_extension": ".jl",
   "mimetype": "application/julia",
   "name": "julia",
   "version": "1.6.0"
  },
  "orig_nbformat": 4
 },
 "nbformat": 4,
 "nbformat_minor": 2
}
