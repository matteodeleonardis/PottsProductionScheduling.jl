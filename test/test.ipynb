{
 "cells": [
  {
   "cell_type": "code",
   "execution_count": 1,
   "metadata": {},
   "outputs": [
    {
     "name": "stderr",
     "output_type": "stream",
     "text": [
      "┌ Info: Precompiling PottsProductionScheduling [14e5a3a8-54b3-48e7-a2dc-d9c858be7609]\n",
      "└ @ Base loading.jl:1317\n",
      "\u001b[33m\u001b[1m┌ \u001b[22m\u001b[39m\u001b[33m\u001b[1mWarning: \u001b[22m\u001b[39mPackage PottsProductionScheduling does not have Flux in its dependencies:\n",
      "\u001b[33m\u001b[1m│ \u001b[22m\u001b[39m- If you have PottsProductionScheduling checked out for development and have\n",
      "\u001b[33m\u001b[1m│ \u001b[22m\u001b[39m  added Flux as a dependency but haven't updated your primary\n",
      "\u001b[33m\u001b[1m│ \u001b[22m\u001b[39m  environment's manifest file, try `Pkg.resolve()`.\n",
      "\u001b[33m\u001b[1m│ \u001b[22m\u001b[39m- Otherwise you may need to report an issue with PottsProductionScheduling\n",
      "\u001b[33m\u001b[1m└ \u001b[22m\u001b[39mLoading Flux into PottsProductionScheduling from project dependency, future warnings for PottsProductionScheduling are suppressed.\n"
     ]
    }
   ],
   "source": [
    "using Revise\n",
    "using PottsProductionScheduling"
   ]
  },
  {
   "cell_type": "code",
   "execution_count": 42,
   "metadata": {},
   "outputs": [],
   "source": [
    "using Distributions, PyPlot"
   ]
  },
  {
   "cell_type": "code",
   "execution_count": 2,
   "metadata": {},
   "outputs": [
    {
     "data": {
      "text/plain": [
       "20"
      ]
     },
     "execution_count": 2,
     "metadata": {},
     "output_type": "execute_result"
    }
   ],
   "source": [
    "Nmachines = 5\n",
    "Ngoods = 3\n",
    "T = 20"
   ]
  },
  {
   "cell_type": "code",
   "execution_count": 3,
   "metadata": {},
   "outputs": [],
   "source": [
    "env = randomEnvironment(20, Nmachines, Ngoods, 1.0, 1.0);"
   ]
  },
  {
   "cell_type": "code",
   "execution_count": 4,
   "metadata": {},
   "outputs": [],
   "source": [
    "agent = Agent(rand(1:Ngoods, Nmachines, T), Ngoods);"
   ]
  },
  {
   "cell_type": "code",
   "execution_count": 5,
   "metadata": {},
   "outputs": [
    {
     "data": {
      "text/plain": [
       "20-element Vector{Float64}:\n",
       " -4.9692806008160115\n",
       " -3.4199231268415597\n",
       "  5.306278223060171\n",
       "  4.367431290024181\n",
       " -2.7545388836818674\n",
       " -4.508778419794566\n",
       " -5.096649694300414\n",
       " -3.084658278870629\n",
       " -4.006114549128111\n",
       "  0.7531353124120832\n",
       "  3.781738987801596\n",
       "  3.628963355707242\n",
       " -4.469986341586294\n",
       " -2.1742485935744904\n",
       "  0.7454206211290713\n",
       "  8.977688563705755\n",
       " -0.11871376579543891\n",
       "  4.292437798342069\n",
       " -6.677567090196678\n",
       " -3.94828891569712"
      ]
     },
     "execution_count": 5,
     "metadata": {},
     "output_type": "execute_result"
    }
   ],
   "source": [
    " production_cost(env, agent)"
   ]
  },
  {
   "cell_type": "code",
   "execution_count": 6,
   "metadata": {},
   "outputs": [
    {
     "data": {
      "text/plain": [
       "19-element Vector{Float64}:\n",
       " 5.0\n",
       " 5.0\n",
       " 5.0\n",
       " 5.0\n",
       " 5.0\n",
       " 5.0\n",
       " 5.0\n",
       " 5.0\n",
       " 5.0\n",
       " 5.0\n",
       " 5.0\n",
       " 5.0\n",
       " 5.0\n",
       " 5.0\n",
       " 5.0\n",
       " 5.0\n",
       " 5.0\n",
       " 5.0\n",
       " 5.0"
      ]
     },
     "execution_count": 6,
     "metadata": {},
     "output_type": "execute_result"
    }
   ],
   "source": [
    "switching_cost(env, agent)"
   ]
  },
  {
   "cell_type": "code",
   "execution_count": 14,
   "metadata": {},
   "outputs": [
    {
     "data": {
      "text/plain": [
       "PoissonDemand([0 1 … 0 0; 0 0 … 0 0; 0 1 … 1 0], [0 0 … 0 0; 0 0 … 0 0; 0 3 … 1 0])"
      ]
     },
     "execution_count": 14,
     "metadata": {},
     "output_type": "execute_result"
    }
   ],
   "source": [
    "demand = PoissonDemand(rand(collect(0:1), Ngoods, T))"
   ]
  },
  {
   "cell_type": "code",
   "execution_count": 19,
   "metadata": {},
   "outputs": [
    {
     "data": {
      "text/plain": [
       "20-element Vector{Float64}:\n",
       "   0.0\n",
       "   0.2688803611865079\n",
       "  -0.7151735491188103\n",
       "   1.5077245106280763\n",
       "   1.1058000165002515\n",
       " -19.65909478896788\n",
       "  10.179894721435787\n",
       "  34.12398609570179\n",
       "  41.00729383472171\n",
       "  45.71693036966164\n",
       "  -7.304595092823348\n",
       " -20.520423675456218\n",
       " -39.19061095006424\n",
       "   0.44423279458374765\n",
       "  29.27119972096401\n",
       " -89.58798993690957\n",
       "  36.914809515953365\n",
       " -27.660802155189366\n",
       "   6.990136741501361\n",
       "  65.07386536994869"
      ]
     },
     "execution_count": 19,
     "metadata": {},
     "output_type": "execute_result"
    }
   ],
   "source": [
    "inventory_cost(env, agent, demand)"
   ]
  },
  {
   "cell_type": "code",
   "execution_count": 21,
   "metadata": {},
   "outputs": [
    {
     "data": {
      "text/plain": [
       "5149.590409796157"
      ]
     },
     "execution_count": 21,
     "metadata": {},
     "output_type": "execute_result"
    }
   ],
   "source": [
    "total_cost(env, agent, demand)"
   ]
  },
  {
   "cell_type": "code",
   "execution_count": 22,
   "metadata": {},
   "outputs": [
    {
     "data": {
      "text/plain": [
       "3×20 Matrix{Float64}:\n",
       " 0.0  1.0  4.0  6.0  5.0  9.0  13.0  …  21.0  24.0  23.0  24.0  26.0  26.0\n",
       " 0.0  3.0  3.0  2.0  4.0  5.0   5.0     15.0  16.0  16.0  18.0  18.0  18.0\n",
       " 0.0  0.0  1.0  3.0  5.0  5.0   4.0     13.0  14.0  15.0  15.0  17.0  22.0"
      ]
     },
     "execution_count": 22,
     "metadata": {},
     "output_type": "execute_result"
    }
   ],
   "source": [
    "compute_inventory(env, agent, demand)"
   ]
  },
  {
   "cell_type": "code",
   "execution_count": 27,
   "metadata": {},
   "outputs": [
    {
     "data": {
      "text/plain": [
       "3×20 Matrix{Float64}:\n",
       " 0.0  0.367879  3.36788  4.36822  …  15.3686  16.3686  18.3686  18.3686\n",
       " 0.0  3.0       3.0      2.02334     16.0234  18.0234  18.0234  18.0234\n",
       " 0.0  0.367879  1.42922  3.43123     17.4335  18.4335  20.4335  25.4335"
      ]
     },
     "execution_count": 27,
     "metadata": {},
     "output_type": "execute_result"
    }
   ],
   "source": [
    "compute_expected_inventory(env, agent, demand)"
   ]
  },
  {
   "cell_type": "code",
   "execution_count": 36,
   "metadata": {},
   "outputs": [
    {
     "data": {
      "text/plain": [
       "Agent(20, 5, 3, [3 1 … 1 1; 2 1 … 3 2; … ; 2 1 … 2 3; 3 2 … 3 1], [0 0 … 0 0; 0 1 … 1 0; 1 0 … 0 1]\n",
       "\n",
       "[1 1 … 1 0; 0 0 … 0 1; 0 0 … 0 0]\n",
       "\n",
       "[0 0 … 0 1; 0 0 … 0 0; 1 1 … 1 0]\n",
       "\n",
       "...\n",
       "\n",
       "[1 0 … 1 0; 0 1 … 0 1; 0 0 … 0 0]\n",
       "\n",
       "[1 0 … 0 0; 0 0 … 1 0; 0 1 … 0 1]\n",
       "\n",
       "[1 0 … 0 1; 0 1 … 0 0; 0 0 … 1 0])"
      ]
     },
     "execution_count": 36,
     "metadata": {},
     "output_type": "execute_result"
    }
   ],
   "source": [
    "PottsProductionScheduling.annealing!(env, agent, demand, 30)"
   ]
  },
  {
   "cell_type": "code",
   "execution_count": 71,
   "metadata": {},
   "outputs": [
    {
     "data": {
      "text/plain": [
       "1000-element Vector{Float64}:\n",
       "   1.005012520859401\n",
       "   1.010050167084168\n",
       "   1.015113064615719\n",
       "   1.0202013400267558\n",
       "   1.0253151205244289\n",
       "   1.030454533953517\n",
       "   1.0356197087996233\n",
       "   1.0408107741923882\n",
       "   1.046027859908717\n",
       "   1.0512710963760241\n",
       "   1.0565406146754943\n",
       "   1.0618365465453596\n",
       "   1.0671590243841926\n",
       "   ⋮\n",
       " 140.4708508514462\n",
       " 141.17496392147686\n",
       " 141.88260637295846\n",
       " 142.5937958969891\n",
       " 143.3085502733439\n",
       " 144.02688737091955\n",
       " 144.748825148181\n",
       " 145.47438165361004\n",
       " 146.2035750261572\n",
       " 146.9364234956948\n",
       " 147.67294538347278\n",
       " 148.4131591025766"
      ]
     },
     "execution_count": 71,
     "metadata": {},
     "output_type": "execute_result"
    }
   ],
   "source": [
    "β = exp.(0.005 .* collect(1:1000))"
   ]
  },
  {
   "cell_type": "code",
   "execution_count": 72,
   "metadata": {},
   "outputs": [
    {
     "data": {
      "text/plain": [
       "(Agent(20, 5, 3, [2 2 … 2 1; 3 1 … 2 1; … ; 3 3 … 3 2; 3 2 … 1 3], [0 0 … 0 0; 1 0 … 0 0; 0 1 … 1 1]\n",
       "\n",
       "[0 1 … 0 0; 1 0 … 0 1; 0 0 … 1 0]\n",
       "\n",
       "[0 0 … 0 0; 0 0 … 1 0; 1 1 … 0 1]\n",
       "\n",
       "...\n",
       "\n",
       "[1 0 … 1 1; 0 0 … 0 0; 0 1 … 0 0]\n",
       "\n",
       "[0 0 … 0 1; 1 1 … 0 0; 0 0 … 1 0]\n",
       "\n",
       "[1 1 … 0 0; 0 0 … 1 0; 0 0 … 0 1]), [5072.854979721445, 5072.854979721445, 5072.854979721445, 5072.854979721445, 5072.854979721445, 5072.854979721445, 5072.854979721445, 5072.854979721445, 5072.854979721445, 5072.854979721445  …  5029.456911527727, 5029.456911527727, 5029.456911527727, 5029.456911527727, 5029.456911527727, 5029.456911527727, 5029.456911527727, 5029.456911527727, 5029.456911527727, 5029.456911527727])"
      ]
     },
     "execution_count": 72,
     "metadata": {},
     "output_type": "execute_result"
    }
   ],
   "source": [
    "a, c =PottsProductionScheduling.annealing_schedule!(env, agent, demand, β)"
   ]
  },
  {
   "cell_type": "code",
   "execution_count": 73,
   "metadata": {},
   "outputs": [
    {
     "data": {
      "image/png": "[encoded data removed]",
      "text/plain": [
       "Figure(PyObject <Figure size 640x480 with 1 Axes>)"
      ]
     },
     "metadata": {},
     "output_type": "display_data"
    },
    {
     "data": {
      "text/plain": [
       "1-element Vector{PyCall.PyObject}:\n",
       " PyObject <matplotlib.lines.Line2D object at 0x7fe5769d4a30>"
      ]
     },
     "execution_count": 73,
     "metadata": {},
     "output_type": "execute_result"
    }
   ],
   "source": [
    "plot(c)"
   ]
  },
  {
   "cell_type": "code",
   "execution_count": 74,
   "metadata": {},
   "outputs": [
    {
     "data": {
      "text/plain": [
       "1000-element Vector{Float64}:\n",
       " 5072.854979721445\n",
       " 5072.854979721445\n",
       " 5072.854979721445\n",
       " 5072.854979721445\n",
       " 5072.854979721445\n",
       " 5072.854979721445\n",
       " 5072.854979721445\n",
       " 5072.854979721445\n",
       " 5072.854979721445\n",
       " 5072.854979721445\n",
       " 5072.854979721445\n",
       " 5072.854979721445\n",
       " 5072.854979721445\n",
       "    ⋮\n",
       " 5029.456911527727\n",
       " 5029.456911527727\n",
       " 5029.456911527727\n",
       " 5029.456911527727\n",
       " 5029.456911527727\n",
       " 5029.456911527727\n",
       " 5029.456911527727\n",
       " 5029.456911527727\n",
       " 5029.456911527727\n",
       " 5029.456911527727\n",
       " 5029.456911527727\n",
       " 5029.456911527727"
      ]
     },
     "execution_count": 74,
     "metadata": {},
     "output_type": "execute_result"
    }
   ],
   "source": [
    "c"
   ]
  },
  {
   "cell_type": "code",
   "execution_count": null,
   "metadata": {},
   "outputs": [],
   "source": []
  }
 ],
 "metadata": {
  "kernelspec": {
   "display_name": "Julia 1.6.0",
   "language": "julia",
   "name": "julia-1.6"
  },
  "language_info": {
   "file_extension": ".jl",
   "mimetype": "application/julia",
   "name": "julia",
   "version": "1.6.0"
  },
  "orig_nbformat": 4
 },
 "nbformat": 4,
 "nbformat_minor": 2
}
